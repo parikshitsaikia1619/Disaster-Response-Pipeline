{
 "cells": [
  {
   "cell_type": "markdown",
   "metadata": {},
   "source": [
    "# ML Pipeline Preparation\n",
    "Follow the instructions below to help you create your ML pipeline.\n",
    "### 1. Import libraries and load data from database.\n",
    "- Import Python libraries\n",
    "- Load dataset from database with [`read_sql_table`](https://pandas.pydata.org/pandas-docs/stable/generated/pandas.read_sql_table.html)\n",
    "- Define feature and target variables X and Y"
   ]
  },
  {
   "cell_type": "code",
   "execution_count": 1,
   "metadata": {},
   "outputs": [],
   "source": [
    "# import libraries\n",
    "import pandas as pd\n",
    "import numpy as np\n",
    "import sqlite3\n",
    "from sqlalchemy import create_engine  \n",
    "import nltk\n",
    "import re\n",
    "from nltk.tokenize import word_tokenize\n",
    "from nltk.stem import WordNetLemmatizer"
   ]
  },
  {
   "cell_type": "code",
   "execution_count": 2,
   "metadata": {},
   "outputs": [],
   "source": [
    "from sklearn.pipeline import Pipeline, FeatureUnion\n",
    "from sklearn.model_selection import train_test_split\n",
    "from sklearn.ensemble import AdaBoostClassifier\n",
    "from sklearn.model_selection import GridSearchCV\n",
    "from sklearn.feature_extraction.text import TfidfTransformer, CountVectorizer\n",
    "from sklearn.multioutput import MultiOutputClassifier\n",
    "from sklearn.base import BaseEstimator,TransformerMixin\n",
    "\n",
    "from sklearn.metrics import classification_report\n",
    "from sklearn.metrics import confusion_matrix\n",
    "from sklearn.metrics import fbeta_score, make_scorer"
   ]
  },
  {
   "cell_type": "code",
   "execution_count": 3,
   "metadata": {},
   "outputs": [
    {
     "name": "stdout",
     "output_type": "stream",
     "text": [
      "[nltk_data] Downloading package punkt to /root/nltk_data...\n",
      "[nltk_data]   Unzipping tokenizers/punkt.zip.\n",
      "[nltk_data] Downloading package wordnet to /root/nltk_data...\n",
      "[nltk_data]   Unzipping corpora/wordnet.zip.\n",
      "[nltk_data] Downloading package averaged_perceptron_tagger to\n",
      "[nltk_data]     /root/nltk_data...\n",
      "[nltk_data]   Unzipping taggers/averaged_perceptron_tagger.zip.\n"
     ]
    },
    {
     "data": {
      "text/plain": [
       "True"
      ]
     },
     "execution_count": 3,
     "metadata": {},
     "output_type": "execute_result"
    }
   ],
   "source": [
    "nltk.download('punkt')\n",
    "nltk.download('wordnet')\n",
    "nltk.download('averaged_perceptron_tagger')"
   ]
  },
  {
   "cell_type": "code",
   "execution_count": 4,
   "metadata": {},
   "outputs": [],
   "source": [
    "# load data from database\n",
    "engine = create_engine('sqlite:///Disaster.db')\n",
    "df = pd.read_sql_table('MessagesCategories', engine)  \n",
    "X = df['message'].values\n",
    "Y = df.iloc[:, 4:].values\n",
    "#X = np.delete(X,7549, axis = 0)\n",
    "#Y = np.delete(Y,7549, axis = 0)"
   ]
  },
  {
   "cell_type": "code",
   "execution_count": 5,
   "metadata": {},
   "outputs": [
    {
     "name": "stdout",
     "output_type": "stream",
     "text": [
      "(26216,) (26216, 36)\n"
     ]
    }
   ],
   "source": [
    "print(X.shape, Y.shape)"
   ]
  },
  {
   "cell_type": "markdown",
   "metadata": {},
   "source": [
    "### 2. Write a tokenization function to process your text data"
   ]
  },
  {
   "cell_type": "code",
   "execution_count": 6,
   "metadata": {},
   "outputs": [],
   "source": [
    "def tokenize(text, url_place_holder_string=\"urlplaceholder\"):\n",
    "     # Replace all urls with a urlplaceholder string\n",
    "    url_regex = 'http[s]?://(?:[a-zA-Z]|[0-9]|[$-_@.&+]|[!*\\(\\),]|(?:%[0-9a-fA-F][0-9a-fA-F]))+'\n",
    "    hashtag_regex = '#[a-zA-Z0-9_]+'\n",
    "    # Extract all the urls from the provided text \n",
    "    detected_urls = re.findall(url_regex, text)\n",
    "    \n",
    "    # Extract all the hashtags from the provided text \n",
    "    detected_tags = re.findall(hashtag_regex, text)\n",
    "    \n",
    "    # Replace url with a url placeholder string\n",
    "    for detected_url in detected_urls:\n",
    "        text = text.replace(detected_url, url_place_holder_string)\n",
    "    \n",
    "    # Replace url with a url placeholder string\n",
    "    for detected_tag in detected_tags:\n",
    "        text = text.replace(detected_tag, detected_tag[1:])\n",
    "\n",
    "    # Extract the word tokens from the provided text\n",
    "    tokens = nltk.word_tokenize(text)\n",
    "    \n",
    "    #Lemmanitizer to remove inflectional and derivationally related forms of a word\n",
    "    lemmatizer = nltk.WordNetLemmatizer()\n",
    "\n",
    "    # List of clean tokens\n",
    "    clean_tokens = [lemmatizer.lemmatize(w).lower().strip() for w in tokens]\n",
    "    clean_tokens = [ w for w in clean_tokens if re.search(r'[a-zA-Z]+', w)]\n",
    "    return clean_tokens"
   ]
  },
  {
   "cell_type": "code",
   "execution_count": 7,
   "metadata": {},
   "outputs": [
    {
     "name": "stdout",
     "output_type": "stream",
     "text": [
      "['weather', 'update', 'a', 'cold', 'front', 'from', 'cuba', 'that', 'could', 'pas', 'over', 'haiti'] \n",
      "\n",
      "['is', 'the', 'hurricane', 'over', 'or', 'is', 'it', 'not', 'over'] \n",
      "\n",
      "['looking', 'for', 'someone', 'but', 'no', 'name'] \n",
      "\n",
      "['un', 'report', 'leogane', 'destroyed', 'only', 'hospital', 'st.', 'croix', 'functioning', 'needs', 'supply', 'desperately'] \n",
      "\n",
      "['say', 'west', 'side', 'of', 'haiti', 'rest', 'of', 'the', 'country', 'today', 'and', 'tonight'] \n",
      "\n",
      "['information', 'about', 'the', 'national', 'palace-'] \n",
      "\n",
      "['storm', 'at', 'sacred', 'heart', 'of', 'jesus'] \n",
      "\n",
      "['please', 'we', 'need', 'tent', 'and', 'water', 'we', 'are', 'in', 'silo', 'thank', 'you'] \n",
      "\n",
      "['i', 'would', 'like', 'to', 'receive', 'the', 'message', 'thank', 'you'] \n",
      "\n",
      "['i', 'am', 'in', 'croix-des-bouquets', 'we', 'have', 'health', 'issue', 'they', 'worker', 'are', 'in', 'santo', 'an', 'area', 'in', 'croix-des-bouquets'] \n",
      "\n"
     ]
    }
   ],
   "source": [
    "for x in X[:10]:\n",
    "    print(tokenize(x),\"\\n\")"
   ]
  },
  {
   "cell_type": "code",
   "execution_count": 8,
   "metadata": {},
   "outputs": [],
   "source": [
    "# Build a custom transformer which will extract the starting verb of a sentence\n",
    "class StartingVerbExtractor(BaseEstimator, TransformerMixin):\n",
    "\n",
    "    def starting_verb(self, text):\n",
    "        tokens = tokenize(text)\n",
    "        pos_tags = nltk.pos_tag(tokens)\n",
    "        #print(pos_tags)\n",
    "        try:\n",
    "            first_word, first_tag = pos_tags[0]\n",
    "            if first_tag in ['VB', 'VBP'] or first_word == 'RT':\n",
    "                return True\n",
    "            return False\n",
    "        except:\n",
    "            return False\n",
    "\n",
    "    def fit(self, x, y=None):\n",
    "        return self\n",
    "\n",
    "    def transform(self, X):\n",
    "        X_tagged = pd.Series(X).apply(self.starting_verb)\n",
    "        return pd.DataFrame(X_tagged)"
   ]
  },
  {
   "cell_type": "code",
   "execution_count": 9,
   "metadata": {},
   "outputs": [],
   "source": [
    "def starting_verb(text):\n",
    "        tokens = tokenize(text)\n",
    "        pos_tags = nltk.pos_tag(tokens)\n",
    "        #print(pos_tags)\n",
    "        try:\n",
    "            first_word, first_tag = pos_tags[0]\n",
    "            if first_tag in ['VB', 'VBP'] or first_word == 'RT':\n",
    "                return True\n",
    "            return False\n",
    "        except:\n",
    "            return False"
   ]
  },
  {
   "cell_type": "markdown",
   "metadata": {},
   "source": [
    "### 3. Build a machine learning pipeline\n",
    "This machine pipeline should take in the `message` column as input and output classification results on the other 36 categories in the dataset. You may find the [MultiOutputClassifier](http://scikit-learn.org/stable/modules/generated/sklearn.multioutput.MultiOutputClassifier.html) helpful for predicting multiple target variables."
   ]
  },
  {
   "cell_type": "code",
   "execution_count": 10,
   "metadata": {},
   "outputs": [],
   "source": [
    "pipeline = Pipeline([\n",
    "            ('count_vectorizer', CountVectorizer(tokenizer=tokenize)),\n",
    "            ('tfidf_transformer', TfidfTransformer()),\n",
    "            ('classifier', MultiOutputClassifier(AdaBoostClassifier()))\n",
    "    ])\n"
   ]
  },
  {
   "cell_type": "markdown",
   "metadata": {},
   "source": [
    "### 4. Train pipeline\n",
    "- Split data into train and test sets\n",
    "- Train pipeline"
   ]
  },
  {
   "cell_type": "code",
   "execution_count": 11,
   "metadata": {},
   "outputs": [],
   "source": [
    "X_train, X_test, y_train, y_test = train_test_split(X, Y)\n",
    "pipeline_fitted = pipeline.fit(X_train, y_train)"
   ]
  },
  {
   "cell_type": "markdown",
   "metadata": {},
   "source": [
    "### 5. Test your model\n",
    "Report the f1 score, precision and recall for each output category of the dataset. You can do this by iterating through the columns and calling sklearn's `classification_report` on each."
   ]
  },
  {
   "cell_type": "code",
   "execution_count": 12,
   "metadata": {},
   "outputs": [],
   "source": [
    "y_prediction_train = pipeline_fitted.predict(X_train)\n",
    "y_prediction_test = pipeline_fitted.predict(X_test)\n",
    "\n"
   ]
  },
  {
   "cell_type": "code",
   "execution_count": 13,
   "metadata": {},
   "outputs": [
    {
     "name": "stdout",
     "output_type": "stream",
     "text": [
      "             precision    recall  f1-score   support\n",
      "\n",
      "          0       0.96      0.98      0.97    215254\n",
      "          1       0.77      0.59      0.67     20635\n",
      "          2       0.43      0.18      0.26        55\n",
      "\n",
      "avg / total       0.94      0.95      0.95    235944\n",
      "\n"
     ]
    }
   ],
   "source": [
    "# Print classification report on test data\n",
    "print(classification_report(np.hstack(y_test),np.hstack(y_prediction_test)))"
   ]
  },
  {
   "cell_type": "markdown",
   "metadata": {},
   "source": [
    "### 6. Improve your model\n",
    "Use grid search to find better parameters. "
   ]
  },
  {
   "cell_type": "code",
   "execution_count": 14,
   "metadata": {},
   "outputs": [
    {
     "data": {
      "text/plain": [
       "{'memory': None,\n",
       " 'steps': [('count_vectorizer',\n",
       "   CountVectorizer(analyzer='word', binary=False, decode_error='strict',\n",
       "           dtype=<class 'numpy.int64'>, encoding='utf-8', input='content',\n",
       "           lowercase=True, max_df=1.0, max_features=None, min_df=1,\n",
       "           ngram_range=(1, 1), preprocessor=None, stop_words=None,\n",
       "           strip_accents=None, token_pattern='(?u)\\\\b\\\\w\\\\w+\\\\b',\n",
       "           tokenizer=<function tokenize at 0x7f8b8531b378>, vocabulary=None)),\n",
       "  ('tfidf_transformer',\n",
       "   TfidfTransformer(norm='l2', smooth_idf=True, sublinear_tf=False, use_idf=True)),\n",
       "  ('classifier',\n",
       "   MultiOutputClassifier(estimator=AdaBoostClassifier(algorithm='SAMME.R', base_estimator=None,\n",
       "             learning_rate=1.0, n_estimators=50, random_state=None),\n",
       "              n_jobs=1))],\n",
       " 'count_vectorizer': CountVectorizer(analyzer='word', binary=False, decode_error='strict',\n",
       "         dtype=<class 'numpy.int64'>, encoding='utf-8', input='content',\n",
       "         lowercase=True, max_df=1.0, max_features=None, min_df=1,\n",
       "         ngram_range=(1, 1), preprocessor=None, stop_words=None,\n",
       "         strip_accents=None, token_pattern='(?u)\\\\b\\\\w\\\\w+\\\\b',\n",
       "         tokenizer=<function tokenize at 0x7f8b8531b378>, vocabulary=None),\n",
       " 'tfidf_transformer': TfidfTransformer(norm='l2', smooth_idf=True, sublinear_tf=False, use_idf=True),\n",
       " 'classifier': MultiOutputClassifier(estimator=AdaBoostClassifier(algorithm='SAMME.R', base_estimator=None,\n",
       "           learning_rate=1.0, n_estimators=50, random_state=None),\n",
       "            n_jobs=1),\n",
       " 'count_vectorizer__analyzer': 'word',\n",
       " 'count_vectorizer__binary': False,\n",
       " 'count_vectorizer__decode_error': 'strict',\n",
       " 'count_vectorizer__dtype': numpy.int64,\n",
       " 'count_vectorizer__encoding': 'utf-8',\n",
       " 'count_vectorizer__input': 'content',\n",
       " 'count_vectorizer__lowercase': True,\n",
       " 'count_vectorizer__max_df': 1.0,\n",
       " 'count_vectorizer__max_features': None,\n",
       " 'count_vectorizer__min_df': 1,\n",
       " 'count_vectorizer__ngram_range': (1, 1),\n",
       " 'count_vectorizer__preprocessor': None,\n",
       " 'count_vectorizer__stop_words': None,\n",
       " 'count_vectorizer__strip_accents': None,\n",
       " 'count_vectorizer__token_pattern': '(?u)\\\\b\\\\w\\\\w+\\\\b',\n",
       " 'count_vectorizer__tokenizer': <function __main__.tokenize(text, url_place_holder_string='urlplaceholder')>,\n",
       " 'count_vectorizer__vocabulary': None,\n",
       " 'tfidf_transformer__norm': 'l2',\n",
       " 'tfidf_transformer__smooth_idf': True,\n",
       " 'tfidf_transformer__sublinear_tf': False,\n",
       " 'tfidf_transformer__use_idf': True,\n",
       " 'classifier__estimator__algorithm': 'SAMME.R',\n",
       " 'classifier__estimator__base_estimator': None,\n",
       " 'classifier__estimator__learning_rate': 1.0,\n",
       " 'classifier__estimator__n_estimators': 50,\n",
       " 'classifier__estimator__random_state': None,\n",
       " 'classifier__estimator': AdaBoostClassifier(algorithm='SAMME.R', base_estimator=None,\n",
       "           learning_rate=1.0, n_estimators=50, random_state=None),\n",
       " 'classifier__n_jobs': 1}"
      ]
     },
     "execution_count": 14,
     "metadata": {},
     "output_type": "execute_result"
    }
   ],
   "source": [
    "pipeline.get_params()"
   ]
  },
  {
   "cell_type": "code",
   "execution_count": 20,
   "metadata": {},
   "outputs": [],
   "source": [
    "parameters = {\n",
    "    'classifier__estimator__n_estimators': [50, 100],\n",
    "    'classifier__estimator__learning_rate': [1.0, 0.3],\n",
    "}\n",
    "\n",
    "cv = GridSearchCV(pipeline, param_grid=parameters, n_jobs=3, verbose=2)"
   ]
  },
  {
   "cell_type": "code",
   "execution_count": 16,
   "metadata": {
    "scrolled": true
   },
   "outputs": [
    {
     "name": "stdout",
     "output_type": "stream",
     "text": [
      "Fitting 3 folds for each of 4 candidates, totalling 12 fits\n",
      "[CV] classifier__estimator__learning_rate=1.0, classifier__estimator__n_estimators=50 \n",
      "[CV] classifier__estimator__learning_rate=1.0, classifier__estimator__n_estimators=50 \n",
      "[CV] classifier__estimator__learning_rate=1.0, classifier__estimator__n_estimators=50 \n",
      "[CV] classifier__estimator__learning_rate=1.0, classifier__estimator__n_estimators=100 \n",
      "[CV]  classifier__estimator__learning_rate=1.0, classifier__estimator__n_estimators=50, total= 7.1min\n",
      "[CV] classifier__estimator__learning_rate=1.0, classifier__estimator__n_estimators=100 \n",
      "[CV]  classifier__estimator__learning_rate=1.0, classifier__estimator__n_estimators=50, total= 7.1min\n",
      "[CV] classifier__estimator__learning_rate=1.0, classifier__estimator__n_estimators=100 \n",
      "[CV]  classifier__estimator__learning_rate=1.0, classifier__estimator__n_estimators=50, total= 7.1min\n",
      "[CV] classifier__estimator__learning_rate=0.3, classifier__estimator__n_estimators=50 \n",
      "[CV]  classifier__estimator__learning_rate=1.0, classifier__estimator__n_estimators=100, total=13.4min\n",
      "[CV] classifier__estimator__learning_rate=0.3, classifier__estimator__n_estimators=50 \n",
      "[CV]  classifier__estimator__learning_rate=0.3, classifier__estimator__n_estimators=50, total= 7.1min\n",
      "[CV] classifier__estimator__learning_rate=0.3, classifier__estimator__n_estimators=50 \n",
      "[CV]  classifier__estimator__learning_rate=1.0, classifier__estimator__n_estimators=100, total=13.4min\n",
      "[CV] classifier__estimator__learning_rate=0.3, classifier__estimator__n_estimators=100 \n",
      "[CV]  classifier__estimator__learning_rate=0.3, classifier__estimator__n_estimators=50, total= 7.1min\n",
      "[CV] classifier__estimator__learning_rate=0.3, classifier__estimator__n_estimators=100 \n",
      "[CV]  classifier__estimator__learning_rate=1.0, classifier__estimator__n_estimators=100, total=13.4min\n",
      "[CV] classifier__estimator__learning_rate=0.3, classifier__estimator__n_estimators=100 \n",
      "[CV]  classifier__estimator__learning_rate=0.3, classifier__estimator__n_estimators=50, total= 7.1min\n",
      "[CV]  classifier__estimator__learning_rate=0.3, classifier__estimator__n_estimators=100, total=10.3min\n",
      "[CV]  classifier__estimator__learning_rate=0.3, classifier__estimator__n_estimators=100, total=10.3min\n",
      "[CV]  classifier__estimator__learning_rate=0.3, classifier__estimator__n_estimators=100, total=10.3min\n"
     ]
    },
    {
     "name": "stderr",
     "output_type": "stream",
     "text": [
      "[Parallel(n_jobs=4)]: Done  12 out of  12 | elapsed: 33.5min remaining:    0.0s\n",
      "[Parallel(n_jobs=4)]: Done  12 out of  12 | elapsed: 33.5min finished\n"
     ]
    },
    {
     "data": {
      "text/plain": [
       "GridSearchCV(cv=None, error_score='raise',\n",
       "       estimator=Pipeline(memory=None,\n",
       "     steps=[('count_vectorizer', CountVectorizer(analyzer='word', binary=False, decode_error='strict',\n",
       "        dtype=<class 'numpy.int64'>, encoding='utf-8', input='content',\n",
       "        lowercase=True, max_df=1.0, max_features=None, min_df=1,\n",
       "        ngram_range=(1, 1), preprocessor=None, stop_words=None,\n",
       " ...mator=None,\n",
       "          learning_rate=1.0, n_estimators=50, random_state=None),\n",
       "           n_jobs=1))]),\n",
       "       fit_params=None, iid=True, n_jobs=4,\n",
       "       param_grid={'classifier__estimator__n_estimators': [50, 100], 'classifier__estimator__learning_rate': [1.0, 0.3]},\n",
       "       pre_dispatch='2*n_jobs', refit=True, return_train_score='warn',\n",
       "       scoring=None, verbose=2)"
      ]
     },
     "execution_count": 16,
     "metadata": {},
     "output_type": "execute_result"
    }
   ],
   "source": [
    "cv.fit(X_train, y_train)"
   ]
  },
  {
   "cell_type": "code",
   "execution_count": 17,
   "metadata": {},
   "outputs": [
    {
     "name": "stdout",
     "output_type": "stream",
     "text": [
      "{'classifier__estimator__learning_rate': 0.3, 'classifier__estimator__n_estimators': 100}\n",
      "Pipeline(memory=None,\n",
      "     steps=[('count_vectorizer', CountVectorizer(analyzer='word', binary=False, decode_error='strict',\n",
      "        dtype=<class 'numpy.int64'>, encoding='utf-8', input='content',\n",
      "        lowercase=True, max_df=1.0, max_features=None, min_df=1,\n",
      "        ngram_range=(1, 1), preprocessor=None, stop_words=None,\n",
      " ...ator=None,\n",
      "          learning_rate=0.3, n_estimators=100, random_state=None),\n",
      "           n_jobs=1))])\n"
     ]
    }
   ],
   "source": [
    "#finding the best paramesters based on grip search\n",
    "print(cv.best_params_)\n",
    "\n",
    "#building new model\n",
    "optimised_model = cv.best_estimator_\n",
    "print (cv.best_estimator_)"
   ]
  },
  {
   "cell_type": "markdown",
   "metadata": {},
   "source": [
    "### 7. Test your model\n",
    "Show the accuracy, precision, and recall of the tuned model.  \n",
    "\n",
    "Since this project focuses on code quality, process, and  pipelines, there is no minimum performance metric needed to pass. However, make sure to fine tune your models for accuracy, precision and recall to make your project stand out - especially for your portfolio!"
   ]
  },
  {
   "cell_type": "code",
   "execution_count": 18,
   "metadata": {},
   "outputs": [
    {
     "name": "stdout",
     "output_type": "stream",
     "text": [
      "             precision    recall  f1-score   support\n",
      "\n",
      "          0       0.96      0.99      0.97    215254\n",
      "          1       0.80      0.55      0.65     20635\n",
      "          2       0.00      0.00      0.00        55\n",
      "\n",
      "avg / total       0.94      0.95      0.94    235944\n",
      "\n"
     ]
    }
   ],
   "source": [
    "y_prediction_train = optimised_model.predict(X_train)\n",
    "y_prediction_test = optimised_model.predict(X_test)\n",
    "\n",
    "# Print classification report on test data\n",
    "print(classification_report(np.hstack(y_test),np.hstack(y_prediction_test)))"
   ]
  },
  {
   "cell_type": "markdown",
   "metadata": {},
   "source": [
    "### 8. Try improving your model further. Here are a few ideas:\n",
    "* try other machine learning algorithms\n",
    "* add other features besides the TF-IDF"
   ]
  },
  {
   "cell_type": "code",
   "execution_count": null,
   "metadata": {},
   "outputs": [],
   "source": []
  },
  {
   "cell_type": "markdown",
   "metadata": {},
   "source": [
    "### 9. Export your model as a pickle file"
   ]
  },
  {
   "cell_type": "code",
   "execution_count": 21,
   "metadata": {},
   "outputs": [],
   "source": [
    "import pickle"
   ]
  },
  {
   "cell_type": "code",
   "execution_count": 22,
   "metadata": {},
   "outputs": [],
   "source": [
    "with open('model.pkl', 'wb') as file:\n",
    "    pickle.dump(optimised_model, file)"
   ]
  },
  {
   "cell_type": "markdown",
   "metadata": {},
   "source": [
    "### 10. Use this notebook to complete `train.py`\n",
    "Use the template file attached in the Resources folder to write a script that runs the steps above to create a database and export a model based on a new dataset specified by the user."
   ]
  },
  {
   "cell_type": "code",
   "execution_count": null,
   "metadata": {},
   "outputs": [],
   "source": []
  }
 ],
 "metadata": {
  "kernelspec": {
   "display_name": "Python 3",
   "language": "python",
   "name": "python3"
  },
  "language_info": {
   "codemirror_mode": {
    "name": "ipython",
    "version": 3
   },
   "file_extension": ".py",
   "mimetype": "text/x-python",
   "name": "python",
   "nbconvert_exporter": "python",
   "pygments_lexer": "ipython3",
   "version": "3.6.3"
  }
 },
 "nbformat": 4,
 "nbformat_minor": 2
}
